{
 "cells": [
  {
   "cell_type": "markdown",
   "id": "20eec028",
   "metadata": {},
   "source": [
    "# Edyoucated Data Science Challenge"
   ]
  },
  {
   "cell_type": "markdown",
   "id": "da24810a",
   "metadata": {},
   "source": [
    "## Introduction\n",
    "\n",
    "This notebook contains some analysis on learners databases from Edyoucated GmbH. The aim of this task is to provide concise and clear visualization of the data and apply some algorithms to derive fruitful outcomes.\n",
    "\n",
    "Some of the key analysis performed during this tasks are:\n",
    "* Percentage deviation of the watched duration from the estimated time\n",
    "* Deviation with respect to languages and types of material\n",
    "* Average materials required by per user to master a certain skill\n",
    "* Watch time and material completion analysis \n",
    "* List of users who potentially might be cheating\n",
    "\n",
    "Later, we have a User class which stores information about a specific users and can describe them in meaningful way."
   ]
  },
  {
   "cell_type": "markdown",
   "id": "25701c72",
   "metadata": {},
   "source": [
    "## Loading the dataset"
   ]
  },
  {
   "cell_type": "markdown",
   "id": "6fe6a64b",
   "metadata": {},
   "source": [
    "Please edit the location of the dataset **with respect to this notebook** before using the modules"
   ]
  },
  {
   "cell_type": "code",
   "execution_count": 24,
   "id": "3003a4de",
   "metadata": {},
   "outputs": [
    {
     "name": "stdout",
     "output_type": "stream",
     "text": [
      "Three datasets loaded successfully\n"
     ]
    }
   ],
   "source": [
    "import src.learning_times as lt\n",
    "import src.user_class as us\n",
    "import matplotlib.pyplot as plt\n",
    "import pandas as pd\n",
    "import numpy as np\n",
    "\n",
    "lt.data_location = './data'\n",
    "us.data_location = './data'\n",
    "df_material_progress, df_material, df_user_data = lt.load_data()\n",
    "print('Three datasets loaded successfully')"
   ]
  },
  {
   "cell_type": "markdown",
   "id": "dd7e7db0",
   "metadata": {},
   "source": [
    "### Lets gain some insights about those datasets"
   ]
  },
  {
   "cell_type": "code",
   "execution_count": 25,
   "id": "6927bd5d",
   "metadata": {},
   "outputs": [
    {
     "name": "stdout",
     "output_type": "stream",
     "text": [
      "Printing top five rows...\n",
      "\n",
      "Material progresses data frame\n"
     ]
    },
    {
     "data": {
      "text/html": [
       "<div>\n",
       "<style scoped>\n",
       "    .dataframe tbody tr th:only-of-type {\n",
       "        vertical-align: middle;\n",
       "    }\n",
       "\n",
       "    .dataframe tbody tr th {\n",
       "        vertical-align: top;\n",
       "    }\n",
       "\n",
       "    .dataframe thead th {\n",
       "        text-align: right;\n",
       "    }\n",
       "</style>\n",
       "<table border=\"1\" class=\"dataframe\">\n",
       "  <thead>\n",
       "    <tr style=\"text-align: right;\">\n",
       "      <th></th>\n",
       "      <th>user_id</th>\n",
       "      <th>material_id</th>\n",
       "      <th>started_at</th>\n",
       "      <th>finished_at</th>\n",
       "    </tr>\n",
       "  </thead>\n",
       "  <tbody>\n",
       "    <tr>\n",
       "      <th>0</th>\n",
       "      <td>NVtS.3y2cqAPta8vp9mCaAn5NxToIdGRkfNn7xQx</td>\n",
       "      <td>DE98877711174670901191</td>\n",
       "      <td>2016-06-29 16:49:13.759</td>\n",
       "      <td>2016-06-29 16:53:31.886</td>\n",
       "    </tr>\n",
       "    <tr>\n",
       "      <th>1</th>\n",
       "      <td>nygas99jztQq9WZnw.6CJcn66D3274iGUz6habfD</td>\n",
       "      <td>DE12131011171121131109</td>\n",
       "      <td>2016-03-17 17:44:49.851</td>\n",
       "      <td>2016-03-17 17:44:51.412</td>\n",
       "    </tr>\n",
       "    <tr>\n",
       "      <th>2</th>\n",
       "      <td>9z09kkdnXbwIhNjrCmblpkcq2tMRD6clsOFMAd4j</td>\n",
       "      <td>DE11211470105977410790</td>\n",
       "      <td>2015-10-14 19:57:25.000</td>\n",
       "      <td>2015-10-14 19:57:28.464</td>\n",
       "    </tr>\n",
       "    <tr>\n",
       "      <th>3</th>\n",
       "      <td>zxUrSEtSJkcJ4NIXQi1NUMEGT2VeDiGU28APbHyk</td>\n",
       "      <td>DE10578698098111390901</td>\n",
       "      <td>2016-07-05 01:04:46.826</td>\n",
       "      <td>2016-07-05 01:04:48.166</td>\n",
       "    </tr>\n",
       "    <tr>\n",
       "      <th>4</th>\n",
       "      <td>WbiAkqGINB.GiElspYTwbIzFzfjI09BZAmhTl8Ff</td>\n",
       "      <td>DE86106683118467121141</td>\n",
       "      <td>2015-09-22 23:37:17.872</td>\n",
       "      <td>2015-09-22 23:53:22.468</td>\n",
       "    </tr>\n",
       "  </tbody>\n",
       "</table>\n",
       "</div>"
      ],
      "text/plain": [
       "                                    user_id             material_id  \\\n",
       "0  NVtS.3y2cqAPta8vp9mCaAn5NxToIdGRkfNn7xQx  DE98877711174670901191   \n",
       "1  nygas99jztQq9WZnw.6CJcn66D3274iGUz6habfD  DE12131011171121131109   \n",
       "2  9z09kkdnXbwIhNjrCmblpkcq2tMRD6clsOFMAd4j  DE11211470105977410790   \n",
       "3  zxUrSEtSJkcJ4NIXQi1NUMEGT2VeDiGU28APbHyk  DE10578698098111390901   \n",
       "4  WbiAkqGINB.GiElspYTwbIzFzfjI09BZAmhTl8Ff  DE86106683118467121141   \n",
       "\n",
       "                started_at              finished_at  \n",
       "0  2016-06-29 16:49:13.759  2016-06-29 16:53:31.886  \n",
       "1  2016-03-17 17:44:49.851  2016-03-17 17:44:51.412  \n",
       "2  2015-10-14 19:57:25.000  2015-10-14 19:57:28.464  \n",
       "3  2016-07-05 01:04:46.826  2016-07-05 01:04:48.166  \n",
       "4  2015-09-22 23:37:17.872  2015-09-22 23:53:22.468  "
      ]
     },
     "execution_count": 25,
     "metadata": {},
     "output_type": "execute_result"
    }
   ],
   "source": [
    "print('Printing top five rows...\\n')\n",
    "print('Material progresses data frame')\n",
    "df_material_progress.head(5)"
   ]
  },
  {
   "cell_type": "code",
   "execution_count": 26,
   "id": "da7ae678",
   "metadata": {},
   "outputs": [
    {
     "name": "stdout",
     "output_type": "stream",
     "text": [
      "Materials data frame\n"
     ]
    },
    {
     "data": {
      "text/html": [
       "<div>\n",
       "<style scoped>\n",
       "    .dataframe tbody tr th:only-of-type {\n",
       "        vertical-align: middle;\n",
       "    }\n",
       "\n",
       "    .dataframe tbody tr th {\n",
       "        vertical-align: top;\n",
       "    }\n",
       "\n",
       "    .dataframe thead th {\n",
       "        text-align: right;\n",
       "    }\n",
       "</style>\n",
       "<table border=\"1\" class=\"dataframe\">\n",
       "  <thead>\n",
       "    <tr style=\"text-align: right;\">\n",
       "      <th></th>\n",
       "      <th>material_id</th>\n",
       "      <th>type</th>\n",
       "      <th>language</th>\n",
       "      <th>duration_minutes</th>\n",
       "    </tr>\n",
       "  </thead>\n",
       "  <tbody>\n",
       "    <tr>\n",
       "      <th>0</th>\n",
       "      <td>DE10273658186102893108</td>\n",
       "      <td>video</td>\n",
       "      <td>en</td>\n",
       "      <td>4</td>\n",
       "    </tr>\n",
       "    <tr>\n",
       "      <th>1</th>\n",
       "      <td>DE65100778896973122987</td>\n",
       "      <td>video</td>\n",
       "      <td>en</td>\n",
       "      <td>5</td>\n",
       "    </tr>\n",
       "    <tr>\n",
       "      <th>2</th>\n",
       "      <td>DE81811499116100670121</td>\n",
       "      <td>video</td>\n",
       "      <td>en</td>\n",
       "      <td>4</td>\n",
       "    </tr>\n",
       "    <tr>\n",
       "      <th>3</th>\n",
       "      <td>DE11810611510611074981</td>\n",
       "      <td>text</td>\n",
       "      <td>en</td>\n",
       "      <td>5</td>\n",
       "    </tr>\n",
       "    <tr>\n",
       "      <th>4</th>\n",
       "      <td>DE83768011872511399827</td>\n",
       "      <td>text</td>\n",
       "      <td>de</td>\n",
       "      <td>1</td>\n",
       "    </tr>\n",
       "  </tbody>\n",
       "</table>\n",
       "</div>"
      ],
      "text/plain": [
       "              material_id   type language  duration_minutes\n",
       "0  DE10273658186102893108  video       en                 4\n",
       "1  DE65100778896973122987  video       en                 5\n",
       "2  DE81811499116100670121  video       en                 4\n",
       "3  DE11810611510611074981   text       en                 5\n",
       "4  DE83768011872511399827   text       de                 1"
      ]
     },
     "execution_count": 26,
     "metadata": {},
     "output_type": "execute_result"
    }
   ],
   "source": [
    "print('Materials data frame')\n",
    "df_material.head(5)"
   ]
  },
  {
   "cell_type": "code",
   "execution_count": 27,
   "id": "036af1e9",
   "metadata": {},
   "outputs": [
    {
     "name": "stdout",
     "output_type": "stream",
     "text": [
      "Users data frame\n"
     ]
    },
    {
     "data": {
      "text/html": [
       "<div>\n",
       "<style scoped>\n",
       "    .dataframe tbody tr th:only-of-type {\n",
       "        vertical-align: middle;\n",
       "    }\n",
       "\n",
       "    .dataframe tbody tr th {\n",
       "        vertical-align: top;\n",
       "    }\n",
       "\n",
       "    .dataframe thead th {\n",
       "        text-align: right;\n",
       "    }\n",
       "</style>\n",
       "<table border=\"1\" class=\"dataframe\">\n",
       "  <thead>\n",
       "    <tr style=\"text-align: right;\">\n",
       "      <th></th>\n",
       "      <th>user_id</th>\n",
       "      <th>skill_id</th>\n",
       "      <th>is_mastered</th>\n",
       "    </tr>\n",
       "  </thead>\n",
       "  <tbody>\n",
       "    <tr>\n",
       "      <th>0</th>\n",
       "      <td>9aMTY.HhCbE.KkdjhBwLrYRGMsh7rx3wwlDOFsCK</td>\n",
       "      <td>TRFOqyu.xgwDSQg.0TZGYMGwUSC7EIbzYOqA</td>\n",
       "      <td>False</td>\n",
       "    </tr>\n",
       "    <tr>\n",
       "      <th>1</th>\n",
       "      <td>xXtwl2I6mU2BtSu8LkswN6oHtPse60m2cP4xMNXY</td>\n",
       "      <td>9ObapAwuT3A0qeinUTAc8EnScTtfyEB5c6.a</td>\n",
       "      <td>False</td>\n",
       "    </tr>\n",
       "    <tr>\n",
       "      <th>2</th>\n",
       "      <td>EpjLTGnmZ1g.Ed45Jbm85M4ZlZj814pIM5JWxAzt</td>\n",
       "      <td>9X7JnvyCgM..Pj.d.CV7bUTZ4FNM3getInnj</td>\n",
       "      <td>False</td>\n",
       "    </tr>\n",
       "    <tr>\n",
       "      <th>3</th>\n",
       "      <td>FD.CH9qTlwQOpunsPCi7CsmcGv4.GFFpkUoLWKcP</td>\n",
       "      <td>uMADoKLqo6I8cf.Q.J41Zw0GmDNwIZpZw9iQ</td>\n",
       "      <td>True</td>\n",
       "    </tr>\n",
       "    <tr>\n",
       "      <th>4</th>\n",
       "      <td>4KSDKjWfqcgDfRpLH8dBsE8e4oCFQaEKwcqTYpER</td>\n",
       "      <td>4I6eSc7imYY.iZaUKL5.Qwem0J.SY1Ja6uMd</td>\n",
       "      <td>True</td>\n",
       "    </tr>\n",
       "  </tbody>\n",
       "</table>\n",
       "</div>"
      ],
      "text/plain": [
       "                                    user_id  \\\n",
       "0  9aMTY.HhCbE.KkdjhBwLrYRGMsh7rx3wwlDOFsCK   \n",
       "1  xXtwl2I6mU2BtSu8LkswN6oHtPse60m2cP4xMNXY   \n",
       "2  EpjLTGnmZ1g.Ed45Jbm85M4ZlZj814pIM5JWxAzt   \n",
       "3  FD.CH9qTlwQOpunsPCi7CsmcGv4.GFFpkUoLWKcP   \n",
       "4  4KSDKjWfqcgDfRpLH8dBsE8e4oCFQaEKwcqTYpER   \n",
       "\n",
       "                               skill_id  is_mastered  \n",
       "0  TRFOqyu.xgwDSQg.0TZGYMGwUSC7EIbzYOqA        False  \n",
       "1  9ObapAwuT3A0qeinUTAc8EnScTtfyEB5c6.a        False  \n",
       "2  9X7JnvyCgM..Pj.d.CV7bUTZ4FNM3getInnj        False  \n",
       "3  uMADoKLqo6I8cf.Q.J41Zw0GmDNwIZpZw9iQ         True  \n",
       "4  4I6eSc7imYY.iZaUKL5.Qwem0J.SY1Ja6uMd         True  "
      ]
     },
     "execution_count": 27,
     "metadata": {},
     "output_type": "execute_result"
    }
   ],
   "source": [
    "print('Users data frame')\n",
    "user_data.head(5)"
   ]
  },
  {
   "cell_type": "markdown",
   "id": "90a5a006",
   "metadata": {},
   "source": [
    "## General analysis"
   ]
  },
  {
   "cell_type": "markdown",
   "id": "d20c46b9",
   "metadata": {},
   "source": [
    "Lets have some general analysis over the data."
   ]
  },
  {
   "cell_type": "code",
   "execution_count": 28,
   "id": "3c74cb82",
   "metadata": {},
   "outputs": [],
   "source": [
    "%matplotlib inline"
   ]
  },
  {
   "cell_type": "code",
   "execution_count": 29,
   "id": "1c2bb09f",
   "metadata": {},
   "outputs": [
    {
     "data": {
      "image/png": "[encoded data removed]",
      "text/plain": [
       "<Figure size 1080x504 with 2 Axes>"
      ]
     },
     "metadata": {
      "needs_background": "light"
     },
     "output_type": "display_data"
    },
    {
     "data": {
      "image/png": "[encoded data removed]",
      "text/plain": [
       "<Figure size 1080x504 with 2 Axes>"
      ]
     },
     "metadata": {
      "needs_background": "light"
     },
     "output_type": "display_data"
    },
    {
     "data": {
      "image/png": "[encoded data removed]",
      "text/plain": [
       "<Figure size 432x288 with 1 Axes>"
      ]
     },
     "metadata": {
      "needs_background": "light"
     },
     "output_type": "display_data"
    }
   ],
   "source": [
    "materials_per_skill = lt.general_analysis()"
   ]
  },
  {
   "cell_type": "code",
   "execution_count": 30,
   "id": "a9a22405",
   "metadata": {},
   "outputs": [
    {
     "name": "stdout",
     "output_type": "stream",
     "text": [
      "Average required materials per skill: 2.3964536977798048\n"
     ]
    }
   ],
   "source": [
    "print('Average required materials per skill:', materials_per_skill)"
   ]
  },
  {
   "cell_type": "markdown",
   "id": "8f4f7a68",
   "metadata": {},
   "source": [
    "Well it seems that the it requires around 2 to 3 materials **in average** to master a skill by a single user. I classfied the materials in three different lengths.\n",
    "* Short (less than 4mins)\n",
    "* Medium (between 4 to 10 mins)\n",
    "* Long (larger than 10 mins)"
   ]
  },
  {
   "cell_type": "markdown",
   "id": "580f1723",
   "metadata": {},
   "source": [
    "## Percent deviations in time duration from estimated time"
   ]
  },
  {
   "cell_type": "code",
   "execution_count": 31,
   "id": "8af0b1a4",
   "metadata": {},
   "outputs": [
    {
     "data": {
      "image/png": "[encoded data removed]",
      "text/plain": [
       "<Figure size 1080x504 with 2 Axes>"
      ]
     },
     "metadata": {
      "needs_background": "light"
     },
     "output_type": "display_data"
    },
    {
     "name": "stdout",
     "output_type": "stream",
     "text": [
      "Average percent deviation is: 47.02386944671738\n"
     ]
    }
   ],
   "source": [
    "#getting percentage_time_deviation\n",
    "avg_percent_deviation, language_df, type_df = lt.percent_time_deviation(5)\n",
    "language_df['percent_deviation'] = language_df['percent_deviation']*100\n",
    "type_df['percent_deviation'] = type_df['percent_deviation']*100\n",
    "\n",
    "#plotting the percent deviation by language and type dataframes\n",
    "_, axes = plt.subplots(nrows=1,ncols=2,figsize=(15,7))\n",
    "language_df.plot.bar(x = 'language', y = 'percent_deviation', ax = axes[0], rot = 0)\n",
    "type_df.plot.bar(x = 'type', y = 'percent_deviation', ax = axes[1], rot = 0)\n",
    "plt.show()\n",
    "print('Average percent deviation is:', avg_percent_deviation* 100)"
   ]
  },
  {
   "cell_type": "markdown",
   "id": "76f0b7b4",
   "metadata": {},
   "source": [
    "## Watch time analysis"
   ]
  },
  {
   "cell_type": "code",
   "execution_count": 32,
   "id": "6ad65171",
   "metadata": {},
   "outputs": [
    {
     "data": {
      "image/png": "[encoded data removed]",
      "text/plain": [
       "<Figure size 1080x720 with 1 Axes>"
      ]
     },
     "metadata": {
      "needs_background": "light"
     },
     "output_type": "display_data"
    }
   ],
   "source": [
    "#Watch_time analysis\n",
    "pass_list = []\n",
    "percent_list = []\n",
    "for i in np.linspace(0,1,11):\n",
    "    percent_passed, _, _ = lt.watch_analysis(i, i, 5)\n",
    "    pass_list.append(percent_passed*100)\n",
    "    percent_list.append(str(int(i*100)))\n",
    "\n",
    "fig = plt.figure(figsize=(15, 10))\n",
    "ax = fig.add_axes([0.15,0.15,0.75,0.75])\n",
    "ax.bar(percent_list, pass_list, 0.8)\n",
    "ax.set_title('People watching specific percent of material duration')\n",
    "ax.set_ylabel('Percentage of people')\n",
    "ax.set_xlabel('Percentage of watch duration and material content')\n",
    "plt.show()"
   ]
  },
  {
   "cell_type": "markdown",
   "id": "ed75bdcf",
   "metadata": {},
   "source": [
    "### ***In average, around 50 percent of people complete 50 percent of their total materials by giving 50 percent of estimated time.***\n",
    "Well we have nice 50s here but this is not good. Only around 17 percent of people are on 80s line."
   ]
  },
  {
   "cell_type": "markdown",
   "id": "41819734",
   "metadata": {},
   "source": [
    "## Cheating Analysis"
   ]
  },
  {
   "cell_type": "markdown",
   "id": "09775ff2",
   "metadata": {},
   "source": [
    "Well, I filtered out those users who are in 10 percent line from the watch analysis and have more than 70 percent of mastered skills. These numbers can be changed by implementing some supervised learning algorithm."
   ]
  },
  {
   "cell_type": "code",
   "execution_count": 33,
   "id": "63eedc49",
   "metadata": {},
   "outputs": [
    {
     "name": "stdout",
     "output_type": "stream",
     "text": [
      "No. of users who could be potentially cheating is 29\n"
     ]
    }
   ],
   "source": [
    "print('No. of users who could be potentially cheating is', len(lt.cheating_list()))"
   ]
  },
  {
   "cell_type": "markdown",
   "id": "e86b10f3",
   "metadata": {},
   "source": [
    "## Usuage of User class"
   ]
  },
  {
   "cell_type": "markdown",
   "id": "a577841a",
   "metadata": {},
   "source": [
    "The user class contains information about a specific user. It has certain attributes such as:\n",
    "\n",
    "* User ID\n",
    "* list of skills and their mastery in a dictionary format\n",
    "* mastery level \n",
    "\n",
    "Mastery level is decided on the basis of the percentage of skills they master, and it is divided in three parts:\n",
    "* Beginner (less than 40 percent)\n",
    "* Intermediate (between 40 and 80 percent)\n",
    "* Expert (Above 80 percent)\n",
    "\n",
    "This class has a method called **describe()** to showcase the user information in meaningful way. There is an another method called **create_json()** which generates a list of all users with their respective skills and their mastery status.\n"
   ]
  },
  {
   "cell_type": "code",
   "execution_count": 34,
   "id": "46d79d85",
   "metadata": {},
   "outputs": [
    {
     "name": "stdout",
     "output_type": "stream",
     "text": [
      "The user id is: 9aMTY.HhCbE.KkdjhBwLrYRGMsh7rx3wwlDOFsCK\n",
      "Number of total skills:  35\n",
      "Number of skills mastered  16\n",
      "Skill level:  Intermediate\n"
     ]
    }
   ],
   "source": [
    "#Create an instance of first user in dataset\n",
    "user_instance = us.User(df_user_data.iloc[0,0], df_user_data)\n",
    "user_instance.describe()"
   ]
  },
  {
   "cell_type": "markdown",
   "id": "8a6aca98",
   "metadata": {},
   "source": [
    "## Conclusion"
   ]
  },
  {
   "cell_type": "markdown",
   "id": "c9000b6a",
   "metadata": {},
   "source": [
    "Here, I performed some quantitative analysis on the data and observed that most of the users dont consume materials as expected. On the qualitative side, from my personal experience in different online learning platforms, keeping some key exercises below the material might reduce this problem--especially if the excercises **highly** depend on the material. To make the cheat analysis even more stronger we might have to introduce a relationship between materials and skills for example which materials are required to master a skill. All in all, it was challenging and fun analyzing the data. :)"
   ]
  },
  {
   "cell_type": "markdown",
   "id": "0e08c37d",
   "metadata": {},
   "source": [
    "# The End"
   ]
  }
 ],
 "metadata": {
  "kernelspec": {
   "display_name": "Python 3 (ipykernel)",
   "language": "python",
   "name": "python3"
  },
  "language_info": {
   "codemirror_mode": {
    "name": "ipython",
    "version": 3
   },
   "file_extension": ".py",
   "mimetype": "text/x-python",
   "name": "python",
   "nbconvert_exporter": "python",
   "pygments_lexer": "ipython3",
   "version": "3.8.11"
  }
 },
 "nbformat": 4,
 "nbformat_minor": 5
}
